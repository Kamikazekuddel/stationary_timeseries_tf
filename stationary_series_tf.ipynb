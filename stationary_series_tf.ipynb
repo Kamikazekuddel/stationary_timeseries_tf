{
 "cells": [
  {
   "cell_type": "markdown",
   "metadata": {},
   "source": [
    "# Fitting stationary time series with tensorflow\n",
    "\n",
    "This document describes how to fit models for stationary time series to data. We'll do this in tensorflow to take advantage of the build in differentiation and optimization algorithms. Before we start we'll make a conceptual detour to motivate the implementation.\n",
    "\n",
    "In this document we'll denote the stationary time series of interest with $s$. $s$ has $N$ components that we refer to as $s_i$, where $i = 1\\ldots N$. We'll also make use of the variable $\\epsilon$ to denote a time series of length $N$ with independent and identically distributed (iid) components $\\epsilon_i$. In our particular examples the $\\epsilon_i$ will follow a standard normal distribution.\n",
    "\n",
    "We are interested in the probability of a time-series which according to the probability chain rule can be written as follows\n",
    "$$\n",
    "\\begin{aligned}\n",
    " P(s_n,s_{n-1},\\ldots,s_2,s_1) &= \\prod_{i=1}^N P(s_i|s_{i-1},\\ldots,s_1) \\\\\n",
    "  &= \\prod_{i=1}^N P(s_i|i-1)\n",
    "\\end{aligned}\n",
    "$$\n",
    "where we defined the shorthand notation \n",
    "$$\n",
    "\\begin{aligned}\n",
    "P(s_i|i-1) &= P(s_i|s_{i-1},\\ldots,s_1), \\\\\n",
    "P(s_1 | 0) &= P(s_1).\n",
    "\\end{aligned}\n",
    "$$\n",
    "\n",
    "While this decomposition is valid for any joint probability distribution it is particularly useful for the analysis of time series that are quite naturally and therefore also quite often modeled in this manner. Instead of the probability defined above its negative logarithm is often used in practice. We define this quantity of interest as follows\n",
    "$$\\mathrm{NLL}(s) = -\\sum_{i=1}^N \\log P(s_i|i-1).$$\n",
    "This quantity is called the negative log likelyhood (nll).\n",
    "A common parameter estimation technique is the maximum likelyhood technique, which is equivalent to minimizing the nll.\n",
    "\n",
    "Many time series models are designed such that the distributions $P(s_i|i-1)$ are of the same type for all\n",
    "$i$, but with possibly $i$ dependent parameters. In this document we'll consider the concrete example of\n",
    "the normal distribution\n",
    "$$P(s_i|i-1) = N(s_i;\\mu_i,\\sigma_i^2), $$\n",
    "where each $s_i$ is normally distributed by with possibly $i$-dependent mean and variance. Once the $\\mu_i$ and the $\\sigma_i$ are known the nll can be calculated easily as\n",
    "$$\\mathrm{NLL}(s) = -\\sum_{i=1}^N \\log N(s_i;\\mu_i,\\sigma_i^2). $$\n",
    "And we demonstrate now how this is done in tensorflow."
   ]
  },
  {
   "cell_type": "code",
   "execution_count": 1,
   "metadata": {},
   "outputs": [
    {
     "name": "stderr",
     "output_type": "stream",
     "text": [
      "/home/kami/.local/lib/python3.5/site-packages/h5py/__init__.py:36: FutureWarning: Conversion of the second argument of issubdtype from `float` to `np.floating` is deprecated. In future, it will be treated as `np.float64 == np.dtype(float).type`.\n",
      "  from ._conv import register_converters as _register_converters\n"
     ]
    }
   ],
   "source": [
    "import tensorflow as tf\n",
    "import numpy as np"
   ]
  },
  {
   "cell_type": "code",
   "execution_count": 2,
   "metadata": {},
   "outputs": [
    {
     "name": "stdout",
     "output_type": "stream",
     "text": [
      "Negative Log Likelyhood:  229.74933\n"
     ]
    }
   ],
   "source": [
    "#An example of random numbers thaht we'll be using\n",
    "N = 250\n",
    "epsilon_example= np.random.normal(size=N)\n",
    "\n",
    "\n",
    "def negativeLogLikelyhood(observations,mu=0.0,sigma=1.0):\n",
    "    \"\"\"\n",
    "    Negative log likelyhood for observations that are conditionally normal with mean mu and\n",
    "    standard deviation sigma. Here mu and sigma can be either floats (constant for all observations)\n",
    "    or tensorflow tensorsof the same size as the observations tensor.\n",
    "    \"\"\"\n",
    "    dist = tf.distributions.Normal(loc = mu,scale = sigma)\n",
    "    return tf.negative(tf.reduce_sum(dist.log_prob(observations)))\n",
    "\n",
    "#minimal example for using the loglikelyhood function\n",
    "iidSeries = tf.placeholder(tf.float32)\n",
    "ll = negativeLogLikelyhood(iidSeries)\n",
    "with tf.Session() as sess:\n",
    "    evaluated_ll = sess.run(ll,feed_dict={iidSeries : epsilon_example/100})\n",
    "    \n",
    "print(\"Negative Log Likelyhood: \",evaluated_ll)"
   ]
  },
  {
   "cell_type": "markdown",
   "metadata": {},
   "source": [
    "Now in order for this to be useful we have to determine $\\mu_i$ and $\\sigma_i$ for the time series models of interest. We illustrate this for two examples of common models. It is particularly important to express the $\\mu_i$ and $\\sigma_i$ in terms of observed quantities and we'll illustrate this in one of our examples.\n",
    "\n",
    "#### ARMA(1,1) Model\n",
    "$$s_i = \\epsilon_i + q\\epsilon_{i-1} + ps_{i-1} $$ Parameters are $p$, $q$ and $\\mu_1$ (starting point of the regression). The $\\epsilon_{i-1}$ are unobserved iid normal variables and therefore $P(s_i|i-1)$ is a shifted and scaled normal distribution. We have\n",
    "$$ P(s_i|i-1) = N(s_i;\\mu_i = q\\epsilon_{i-1} + ps_{i-1};\\sigma_i^2 = 1) $$\n",
    "While the distribution is correct $\\mu_i$ depends on the unobserved quantity $\\epsilon_{i-1}.$\n",
    "In order to deal with this we solve the defining ARMA equation for $\\epsilon$ and get $\\epsilon_{i-1} = q\\epsilon_{i-2} + ps_{i-2} - s_{i-1}$. This can be recursively substituted with the initial condition $\\epsilon_1 = \\mu_1 - s_1$ to obtain an expression for $\\mu_i$ that only depends on observable data.\n",
    "\n",
    "#### GARCH(1,1) Model\n",
    "$$\n",
    "\\begin{aligned}\n",
    " \\sigma_i^2 &= \\omega + qs_{i-1}^2 + p\\sigma_{i-1}^2 \\\\\n",
    " s_i &= \\sigma_i\\epsilon_i\n",
    "\\end{aligned}\n",
    "$$\n",
    "The parameters are $\\omega$, $q$, $p$ and $\\sigma_1$. This formulation fits directly into the presented framework, and we get\n",
    "$$  P(s_i|i-1) = N(s_i;\\mu_i = 0;\\sigma_i^2 = \\omega + qs_{i-1}^2 + p\\sigma_{i-1}^2). $$\n",
    "Similarly to how the unobservable quantity $\\epsilon_i$ needed to be calculated recursively in the ARMA\n",
    "model, the unobservable quantity $\\sigma_i$ needs to be calculated recursively in the GARCH model.\n",
    "\n",
    "As an example we consider a simple GARCH(1,1) model with parameters\n",
    "- $\\omega = 0.1$\n",
    "- $p = 0.2$\n",
    "- $q =0.6$\n",
    "- $\\sigma_1 = 0.25$\n",
    "\n",
    "We create a simulation sample of this GARCH(1,1) time series in numpy:"
   ]
  },
  {
   "cell_type": "code",
   "execution_count": 3,
   "metadata": {},
   "outputs": [
    {
     "data": {
      "image/png": "[encoded data removed]",
      "text/plain": [
       "<matplotlib.figure.Figure at 0x7f48213fd208>"
      ]
     },
     "metadata": {},
     "output_type": "display_data"
    }
   ],
   "source": [
    "omega = 0.1\n",
    "p = 0.2\n",
    "q = 0.6\n",
    "sigma1 = 0.25\n",
    "\n",
    "sigmas = np.zeros_like(epsilon_example)\n",
    "s_garch_example = np.zeros_like(epsilon_example)\n",
    "\n",
    "\n",
    "for timestep in range(len(epsilon_example)):\n",
    "    if (timestep > 0):\n",
    "        sigmas[timestep] = np.sqrt(omega + q*s_garch_example[timestep-1]**2 + p*sigmas[timestep-1]**2)\n",
    "    else:\n",
    "        sigmas[timestep] = sigma1\n",
    "    s_garch_example[timestep] = sigmas[timestep]*epsilon_example[timestep]\n",
    "    \n",
    "    \n",
    "import matplotlib.pyplot as plt\n",
    "%matplotlib inline\n",
    "plt.plot(s_garch_example)\n",
    "plt.show()"
   ]
  },
  {
   "cell_type": "markdown",
   "metadata": {},
   "source": [
    "We now show how to fit this time series in tensorflow using the outlined strategy. We use the definition of the time series model to determine the series for $\\mu_i$ and $\\sigma_1$ and then calculate nll using the function defined above. We then use tensorflow's build in functionality to minimize this function."
   ]
  },
  {
   "cell_type": "code",
   "execution_count": 4,
   "metadata": {},
   "outputs": [],
   "source": [
    "def garch_1_1_nll(s_observations,omega,q,p,sigma1,N):\n",
    "    sigma_list = []\n",
    "    \n",
    "    #loop over observations, where enumerate is used to identify the first observation\n",
    "    #looping over the contents of a tensor can be a little tricky. One way is to unstack\n",
    "    #the 1 dimensional tensor into an iterable of 0 dimensional tensors using unstack.\n",
    "    #the disadvantage is, that the size of the unstacking dimension has to be known\n",
    "    #in advance.\n",
    "    for (timestep,s_timestep) in enumerate(tf.unstack(s_observations,num=N)):\n",
    "        if (timestep > 0):\n",
    "            current_sigma = tf.sqrt(omega + q*tf.square(prev_s) + p*tf.square(prev_sigma))\n",
    "            \n",
    "        else:\n",
    "            current_sigma = sigma1\n",
    "        \n",
    "        prev_sigma = current_sigma\n",
    "        prev_s = s_timestep\n",
    "        sigma_list.append(current_sigma)\n",
    "        \n",
    "    sigmas = tf.stack(sigma_list)\n",
    "    nll = negativeLogLikelyhood(s_observations,sigma=sigmas)\n",
    "    return nll\n",
    "\n",
    "\n",
    "s_observations = tf.placeholder(tf.float32,shape = [None])\n",
    "\n",
    "#A typical appreach for initializing the sigma1 and omega are sample stdandard deviation and variance\n",
    "sigma1_tensor = tf.Variable(np.float32(np.std(s_garch_example)))\n",
    "omega_tensor = tf.Variable(np.float32(np.var(s_garch_example)))\n",
    "\n",
    "\n",
    "q_tensor = tf.Variable(0.5)\n",
    "p_tensor = tf.Variable(0.5)\n",
    "\n",
    "\n",
    "garch_nll = garch_1_1_nll(s_observations,\n",
    "                                omega=omega_tensor,\n",
    "                                q=q_tensor,\n",
    "                                p=p_tensor,\n",
    "                                sigma1 = sigma1_tensor,\n",
    "                                N=N)"
   ]
  },
  {
   "cell_type": "code",
   "execution_count": 14,
   "metadata": {},
   "outputs": [],
   "source": [
    "optimizer = tf.train.MomentumOptimizer(learning_rate=0.00001,momentum=0.9)\n",
    "traning_op = optimizer.minimize(garch_nll)\n",
    "\n",
    "nll_list =[]\n",
    "init = tf.global_variables_initializer()\n",
    "with tf.Session() as sess:\n",
    "    init.run()\n",
    "    \n",
    "    #minimizartion iterations\n",
    "    for _ in range(100):        \n",
    "        _,evaluated_garch_nll = sess.run((traning_op,garch_nll),feed_dict = {s_observations:s_garch_example})\n",
    "        nll_list.append(evaluated_garch_nll)\n",
    "        \n",
    "    (omega_est,q_est,p_est,sigma1_est) = sess.run((omega_tensor,q_tensor,p_tensor,sigma1_tensor),feed_dict = {s_observations:s_garch_example})\n",
    "    "
   ]
  },
  {
   "cell_type": "code",
   "execution_count": 15,
   "metadata": {},
   "outputs": [
    {
     "name": "stdout",
     "output_type": "stream",
     "text": [
      "omega true:  0.1  estimate:  0.15995373 \n",
      "q true:  0.6  estimate:  0.52995974 \n",
      "p true:  0.2  estimate:  0.17396545 \n",
      "sigma1 ture:  0.25  estimate:  0.8208314\n"
     ]
    },
    {
     "data": {
      "text/plain": [
       "[<matplotlib.lines.Line2D at 0x7f47e51332e8>]"
      ]
     },
     "execution_count": 15,
     "metadata": {},
     "output_type": "execute_result"
    },
    {
     "data": {
      "image/png": "[encoded data removed]",
      "text/plain": [
       "<matplotlib.figure.Figure at 0x7f47e9fa19e8>"
      ]
     },
     "metadata": {},
     "output_type": "display_data"
    }
   ],
   "source": [
    "print('omega true: ',omega,' estimate: ',omega_est,\n",
    "      '\\nq true: ',q,' estimate: ',q_est,\n",
    "      '\\np true: ',p,' estimate: ',p_est,\n",
    "      '\\nsigma1 ture: ',sigma1,' estimate: ',sigma1_est)\n",
    "plt.plot(ll_list)"
   ]
  }
 ],
 "metadata": {
  "kernelspec": {
   "display_name": "Python 3",
   "language": "python",
   "name": "python3"
  },
  "language_info": {
   "codemirror_mode": {
    "name": "ipython",
    "version": 3
   },
   "file_extension": ".py",
   "mimetype": "text/x-python",
   "name": "python",
   "nbconvert_exporter": "python",
   "pygments_lexer": "ipython3",
   "version": "3.5.3"
  }
 },
 "nbformat": 4,
 "nbformat_minor": 2
}
